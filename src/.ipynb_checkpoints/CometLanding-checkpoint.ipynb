{
 "cells": [
  {
   "cell_type": "markdown",
   "metadata": {
    "collapsed": true
   },
   "source": [
    "# CS2006 Python Practical 2"
   ]
  },
  {
   "cell_type": "markdown",
   "metadata": {
    "collapsed": true
   },
   "source": [
    "# 0. Import the Required Libraries"
   ]
  },
  {
   "cell_type": "code",
   "execution_count": 84,
   "metadata": {},
   "outputs": [],
   "source": [
    "import pandas as pd"
   ]
  },
  {
   "cell_type": "code",
   "execution_count": 85,
   "metadata": {},
   "outputs": [],
   "source": [
    "import numpy as np"
   ]
  },
  {
   "cell_type": "code",
   "execution_count": 86,
   "metadata": {},
   "outputs": [],
   "source": [
    "import matplotlib.pyplot as plt"
   ]
  },
  {
   "cell_type": "code",
   "execution_count": 87,
   "metadata": {},
   "outputs": [],
   "source": [
    "import json"
   ]
  },
  {
   "cell_type": "code",
   "execution_count": 163,
   "metadata": {},
   "outputs": [],
   "source": [
    "from math import isnan"
   ]
  },
  {
   "cell_type": "code",
   "execution_count": 88,
   "metadata": {},
   "outputs": [],
   "source": [
    "from wordcloud import WordCloud as wc"
   ]
  },
  {
   "cell_type": "code",
   "execution_count": 89,
   "metadata": {},
   "outputs": [],
   "source": [
    "from collections import Counter"
   ]
  },
  {
   "cell_type": "code",
   "execution_count": 90,
   "metadata": {},
   "outputs": [],
   "source": [
    "df=pd.read_csv(\"CometLanding.csv\")"
   ]
  },
  {
   "cell_type": "markdown",
   "metadata": {
    "scrolled": false
   },
   "source": [
    "### Check the Initial Length of the CSV File"
   ]
  },
  {
   "cell_type": "code",
   "execution_count": 91,
   "metadata": {
    "scrolled": true
   },
   "outputs": [
    {
     "data": {
      "text/plain": [
       "77319"
      ]
     },
     "execution_count": 91,
     "metadata": {},
     "output_type": "execute_result"
    }
   ],
   "source": [
    "len(df)"
   ]
  },
  {
   "cell_type": "markdown",
   "metadata": {
    "scrolled": false
   },
   "source": [
    "### Check the Data Type of Each Column"
   ]
  },
  {
   "cell_type": "code",
   "execution_count": 92,
   "metadata": {},
   "outputs": [
    {
     "data": {
      "text/plain": [
       "id_str                       float64\n",
       "from_user                     object\n",
       "text                          object\n",
       "created_at                    object\n",
       "time                          object\n",
       "geo_coordinates               object\n",
       "user_lang                     object\n",
       "in_reply_to_user_id_str      float64\n",
       "in_reply_to_screen_name       object\n",
       "from_user_id_str             float64\n",
       "in_reply_to_status_id_str    float64\n",
       "source                        object\n",
       "profile_image_url             object\n",
       "user_followers_count         float64\n",
       "user_friends_count           float64\n",
       "status_url                    object\n",
       "entities_str                  object\n",
       "dtype: object"
      ]
     },
     "execution_count": 92,
     "metadata": {},
     "output_type": "execute_result"
    }
   ],
   "source": [
    "df.dtypes"
   ]
  },
  {
   "cell_type": "markdown",
   "metadata": {},
   "source": [
    "## 1. Refine the Dataset"
   ]
  },
  {
   "cell_type": "markdown",
   "metadata": {},
   "source": [
    "### 1) Check Data File for Duplicated Tweets and Remove Duplicates"
   ]
  },
  {
   "cell_type": "code",
   "execution_count": 93,
   "metadata": {},
   "outputs": [],
   "source": [
    "df.drop_duplicates(['id_str'], inplace = True)"
   ]
  },
  {
   "cell_type": "code",
   "execution_count": 94,
   "metadata": {
    "scrolled": false
   },
   "outputs": [
    {
     "data": {
      "text/plain": [
       "77268"
      ]
     },
     "execution_count": 94,
     "metadata": {},
     "output_type": "execute_result"
    }
   ],
   "source": [
    "len(df)"
   ]
  },
  {
   "cell_type": "markdown",
   "metadata": {},
   "source": [
    "### 2) Remove Text That is Null"
   ]
  },
  {
   "cell_type": "code",
   "execution_count": 95,
   "metadata": {},
   "outputs": [],
   "source": [
    "df = df[df['text'].notnull()]"
   ]
  },
  {
   "cell_type": "code",
   "execution_count": 96,
   "metadata": {},
   "outputs": [
    {
     "data": {
      "text/plain": [
       "77267"
      ]
     },
     "execution_count": 96,
     "metadata": {},
     "output_type": "execute_result"
    }
   ],
   "source": [
    "len(df)"
   ]
  },
  {
   "cell_type": "markdown",
   "metadata": {},
   "source": [
    "## 2. Perform the Descriptive Analysis of the Dataset"
   ]
  },
  {
   "cell_type": "markdown",
   "metadata": {},
   "source": [
    "### 1.1) Calculate the Total Number of Tweets"
   ]
  },
  {
   "cell_type": "code",
   "execution_count": 97,
   "metadata": {},
   "outputs": [],
   "source": [
    "numTweets = len(df[(df['in_reply_to_user_id_str'].notnull() == False) #Filters out replies\n",
    "                   & (df['text'].str.startswith('RT', na=False) == False)]) #Filters out retweets"
   ]
  },
  {
   "cell_type": "code",
   "execution_count": 98,
   "metadata": {},
   "outputs": [
    {
     "name": "stdout",
     "output_type": "stream",
     "text": [
      "Total number of tweets (excluding replies and retweets): 15582\n"
     ]
    }
   ],
   "source": [
    "print(\"Total number of tweets (excluding replies and retweets): \" \n",
    "      + str(numTweets)) #Filters out retweets"
   ]
  },
  {
   "cell_type": "markdown",
   "metadata": {},
   "source": [
    "### 1.2) Calculate the Total Number of Retweets"
   ]
  },
  {
   "cell_type": "code",
   "execution_count": 99,
   "metadata": {},
   "outputs": [],
   "source": [
    "dfRT = df[df.text.str.startswith('RT', na=False)]"
   ]
  },
  {
   "cell_type": "code",
   "execution_count": 100,
   "metadata": {},
   "outputs": [],
   "source": [
    "numRT = len(dfRT)"
   ]
  },
  {
   "cell_type": "code",
   "execution_count": 101,
   "metadata": {},
   "outputs": [
    {
     "name": "stdout",
     "output_type": "stream",
     "text": [
      "Total number of retweets: 59998\n"
     ]
    }
   ],
   "source": [
    "print(\"Total number of retweets: \" + str(numRT))"
   ]
  },
  {
   "cell_type": "markdown",
   "metadata": {},
   "source": [
    "### 1.3) Calculate the Total Number of Replies"
   ]
  },
  {
   "cell_type": "code",
   "execution_count": 102,
   "metadata": {},
   "outputs": [],
   "source": [
    "dfReplies = df[df['in_reply_to_status_id_str'].notnull() | df['in_reply_to_user_id_str'].notnull()]"
   ]
  },
  {
   "cell_type": "code",
   "execution_count": 103,
   "metadata": {},
   "outputs": [],
   "source": [
    "numReplies = len(dfReplies)"
   ]
  },
  {
   "cell_type": "code",
   "execution_count": 104,
   "metadata": {},
   "outputs": [
    {
     "name": "stdout",
     "output_type": "stream",
     "text": [
      "Number of replies: 1723\n"
     ]
    }
   ],
   "source": [
    "print(\"Number of replies: \" + str(numReplies))"
   ]
  },
  {
   "cell_type": "markdown",
   "metadata": {},
   "source": [
    "### 2) Calculate the Total Number of Different Users Tweeting in this DataSet"
   ]
  },
  {
   "cell_type": "code",
   "execution_count": 105,
   "metadata": {},
   "outputs": [],
   "source": [
    "numUsers = len(df['from_user'].unique())"
   ]
  },
  {
   "cell_type": "code",
   "execution_count": 106,
   "metadata": {},
   "outputs": [
    {
     "name": "stdout",
     "output_type": "stream",
     "text": [
      "The number of users: 50195\n"
     ]
    }
   ],
   "source": [
    "print(\"The number of users: \" + str(numUsers))"
   ]
  },
  {
   "cell_type": "markdown",
   "metadata": {},
   "source": [
    "### 3.1) Calculate the Average Number of Tweets by a User"
   ]
  },
  {
   "cell_type": "code",
   "execution_count": 107,
   "metadata": {},
   "outputs": [
    {
     "name": "stdout",
     "output_type": "stream",
     "text": [
      "Average number of tweets:  0.31042932563004283\n"
     ]
    }
   ],
   "source": [
    "print(\"Average number of tweets: \", str(numTweets / numUsers))"
   ]
  },
  {
   "cell_type": "markdown",
   "metadata": {},
   "source": [
    "### 3.2) Calculate the Average Number of Retweets by a User"
   ]
  },
  {
   "cell_type": "code",
   "execution_count": 108,
   "metadata": {},
   "outputs": [
    {
     "name": "stdout",
     "output_type": "stream",
     "text": [
      "Average number of retweets:  1.195298336487698\n"
     ]
    }
   ],
   "source": [
    "print(\"Average number of retweets: \", str(numRT / numUsers))"
   ]
  },
  {
   "cell_type": "markdown",
   "metadata": {},
   "source": [
    "### 3.3) Calculate the Average Number of Replies Sent by a User"
   ]
  },
  {
   "cell_type": "code",
   "execution_count": 109,
   "metadata": {},
   "outputs": [
    {
     "name": "stdout",
     "output_type": "stream",
     "text": [
      "Average number of replies:  0.03432612810040841\n"
     ]
    }
   ],
   "source": [
    "print(\"Average number of replies: \", str(numReplies / numUsers))"
   ]
  },
  {
   "cell_type": "markdown",
   "metadata": {},
   "source": [
    "### 4) Identify the Most Popular Hashtags"
   ]
  },
  {
   "cell_type": "code",
   "execution_count": 110,
   "metadata": {},
   "outputs": [
    {
     "data": {
      "text/plain": [
       "[('#CometLanding', 53441),\n",
       " ('#cometlanding', 10486),\n",
       " ('#67P', 5872),\n",
       " ('#Rosetta', 4978),\n",
       " ('#Philae', 2613),\n",
       " ('#CometLanding:', 1745),\n",
       " ('#Cometlanding', 1004),\n",
       " ('#CometLanding.', 981),\n",
       " ('#WishKoSaPasko', 970),\n",
       " ('#HappyBirthdaySandaraPark', 965),\n",
       " ('#67P/CG', 701),\n",
       " ('#esa', 676),\n",
       " ('#rosetta', 675),\n",
       " ('#SEP', 623),\n",
       " ('#philae', 588),\n",
       " ('#PoseToiPhilae', 535),\n",
       " ('#Comâ€¦', 514),\n",
       " ('#CometLanding,', 462),\n",
       " ('#space', 443),\n",
       " ('#comâ€¦', 422),\n",
       " ('#cometlanding,', 413),\n",
       " ('#CometLâ€¦', 408),\n",
       " ('#67P.', 406),\n",
       " ('#rosettamission', 404),\n",
       " ('#ESA', 396),\n",
       " ('#comet', 346),\n",
       " ('#CometLanâ€¦', 342),\n",
       " ('#cometlanding.', 323),\n",
       " ('#cometlaâ€¦', 323),\n",
       " ('#CometLanding!', 257),\n",
       " ('#Philae2014', 254),\n",
       " ('#Câ€¦', 251),\n",
       " ('#â€¦', 239),\n",
       " ('#ISS', 231),\n",
       " ('#COMETLANDING', 230),\n",
       " ('#AOS', 223),\n",
       " ('#RejectedMuppets', 218),\n",
       " ('#HomeToMama', 206),\n",
       " ('#Cometâ€¦', 205),\n",
       " ('#67P,', 194),\n",
       " ('#CometLanding?', 190),\n",
       " ('#CometLandingâ€\\x9d', 190),\n",
       " ('#Comeâ€¦', 189),\n",
       " ('#science', 182),\n",
       " ('#CometLanding\"', 153),\n",
       " ('#BreakTheInternet', 147),\n",
       " ('#DoctorWho', 146),\n",
       " ('#TimoGH15', 146),\n",
       " ('#xkcd', 145),\n",
       " ('#câ€¦', 143),\n",
       " (\"#Rosetta's\", 142),\n",
       " ('#Rosetta,', 142),\n",
       " ('#GUERRIERO', 142),\n",
       " ('#spaceveg', 138),\n",
       " ('#Agilkia', 133),\n",
       " ('#CometLaâ€¦', 131),\n",
       " ('#67P!', 127),\n",
       " ('#67P:', 124),\n",
       " ('#autoinculpacions9N', 120),\n",
       " ('#CometWatch', 119),\n",
       " ('#trndnl', 118),\n",
       " ('#cometlanding!', 113),\n",
       " ('#CometLandiâ€¦', 109),\n",
       " ('#CometLandâ€¦', 109),\n",
       " ('#cometlanding:', 108),\n",
       " ('#ESA_Rosetta', 102),\n",
       " ('#Interstellar', 102),\n",
       " ('#jets', 98),\n",
       " ('#Supernatural200thEpisode', 94),\n",
       " ('#5SOSLONGWAYHOME', 93),\n",
       " ('#Philae.', 92),\n",
       " ('#67P?', 88),\n",
       " ('#selfie', 81),\n",
       " ('#Philae,', 80),\n",
       " ('#Rosettaâ€™s', 78),\n",
       " ('#portaaporta', 78),\n",
       " (\"#ESA_Rosetta's\", 77),\n",
       " ('#owl', 77),\n",
       " ('#cometLanding', 76),\n",
       " ('#Rosseta', 76),\n",
       " ('#Rosetta.', 76),\n",
       " ('#TorSapienza', 74),\n",
       " ('#UK', 73),\n",
       " ('#HousingDay', 72),\n",
       " ('#OpSKYNET', 72),\n",
       " ('#harpoons', 71),\n",
       " ('#cometâ€¦', 71),\n",
       " ('#proud', 68),\n",
       " ('#SpaceIsAwesome', 66),\n",
       " (\"#cometlanding!What's\", 66),\n",
       " ('#Comet67P', 64),\n",
       " ('#WeCanLandOnACometButWeCant', 62),\n",
       " ('#Rosetta:', 59),\n",
       " ('#Coâ€¦', 59),\n",
       " ('#favmattpic', 59),\n",
       " ('#cometlandingâ€¦', 56),\n",
       " ('#Comet', 54),\n",
       " ('#SaveTheArctic?', 51),\n",
       " ('#Philaeâ€™s', 51),\n",
       " ('#touchdown', 50),\n",
       " ('#FuegotePuroMambo', 50),\n",
       " ('#RosettaMission', 49),\n",
       " ('#confirmation', 48),\n",
       " ('#tuttoÃ¨possibile', 48),\n",
       " ('#lifeonacomet', 46),\n",
       " ('#googledoodle', 44),\n",
       " ('#67P!!!', 44),\n",
       " ('#Ambition', 44),\n",
       " ('#cometlanding?', 43),\n",
       " ('#news', 42),\n",
       " ('#NASA', 42),\n",
       " ('#Rosetta!', 42),\n",
       " ('#Rosetta?', 41),\n",
       " ('#fb', 41),\n",
       " ('#DPS14', 41),\n",
       " ('#Castellon', 41),\n",
       " ('#ESOC', 41),\n",
       " ('#Space', 40),\n",
       " ('#funny', 40),\n",
       " ('#67Pâ€¦', 39),\n",
       " ('#MumbaiIn3Words', 39),\n",
       " ('#video', 39),\n",
       " ('#RajoyPost9NARV', 39),\n",
       " ('#Thisisnocave', 39),\n",
       " ('#technology', 38),\n",
       " ('#PerdusDeJus', 38),\n",
       " ('#Success!', 35),\n",
       " ('#CometLandingâ€¦', 34),\n",
       " ('#Twitter', 34),\n",
       " ('#cometlanâ€¦', 34),\n",
       " ('#bonucci', 34),\n",
       " ('#confederationcup', 34),\n",
       " ('#P67', 33),\n",
       " ('#wow', 33),\n",
       " ('#MeCambiaElDiaSi', 33),\n",
       " ('#SoProud', 32),\n",
       " ('#Philae?', 32),\n",
       " ('#SantasReindeer', 32),\n",
       " ('#CometLandinâ€¦', 31),\n",
       " ('#JapanSeries', 31),\n",
       " ('#67p', 30),\n",
       " ('#Facebook', 30),\n",
       " ('#suspense', 30),\n",
       " ('#TakeThatLive2015', 30),\n",
       " ('##CometLanding', 29),\n",
       " ('#cometa', 29),\n",
       " ('#italianidirosetta:', 29),\n",
       " ('#CometLanding...', 28),\n",
       " ('#KimKardashian', 28),\n",
       " ('#DSS34', 28),\n",
       " ('#DLR', 27),\n",
       " ('#SPACE', 27),\n",
       " ('#CarlsenAnand', 26),\n",
       " ('#FF', 26),\n",
       " ('#EuropeanSpaceAgency', 26),\n",
       " ('#eatpeanuts', 25),\n",
       " ('#Science', 25),\n",
       " ('#Tories', 25),\n",
       " ('#c4news', 25),\n",
       " ('#plur', 24),\n",
       " ('#FireTheHarpoons.', 24),\n",
       " ('#touchdown.', 24),\n",
       " ('#cnes', 24),\n",
       " ('#CometLanding....good', 24),\n",
       " ('#Armageddon', 23),\n",
       " ('#2YearsSinceTHUPPAKKIStorm', 23),\n",
       " ('#Rossetta', 23),\n",
       " ('#GoogleDoodle', 23),\n",
       " ('#CiscaQueEuJogoMilho', 23),\n",
       " ('#cometlanding\"', 22),\n",
       " ('#Comets', 22),\n",
       " ('#DelhiDialogue', 22),\n",
       " ('#history', 22),\n",
       " ('#KingYammouni', 22),\n",
       " ('#LaHoraMagica289', 22),\n",
       " ('#Paris', 22),\n",
       " (\"#Philae's\", 21),\n",
       " ('#STEM', 20),\n",
       " ('#PhilaeLander', 20),\n",
       " ('#starwars', 20),\n",
       " ('#astronomy', 20),\n",
       " ('#climatechange', 20),\n",
       " ('#BakitBaGanyan', 20),\n",
       " ('#JEROMECHEZMOI', 20),\n",
       " ('#osiris', 20),\n",
       " ('#SAPtd', 20),\n",
       " ('#Philae:', 19),\n",
       " ('#DiKoKayangTanggapin', 19),\n",
       " ('#XKCD', 19),\n",
       " ('#live', 19),\n",
       " ('#Jouyet', 19),\n",
       " ('#Flipante', 19),\n",
       " ('#ccctf', 18),\n",
       " ('#CopaAmerica2015', 18),\n",
       " ('#KSP,', 18),\n",
       " ('#androidify', 18),\n",
       " ('#WishKoSaPâ€¦', 18),\n",
       " ('#FoM14', 18),\n",
       " ('#HistÃ³ricâ€¦', 18),\n",
       " ('#Râ€¦', 17),\n",
       " ('#TeSigoyTeSaludo', 17),\n",
       " ('#kuyrukluyÄ±ldÄ±z', 17),\n",
       " ('#ROLIS', 17),\n",
       " ('#GoHumanity', 17),\n",
       " ('#domian', 17),\n",
       " ('#Cometa67P', 17),\n",
       " ('#History', 16),\n",
       " ('#comet67p', 16),\n",
       " ('#ESOC.', 16),\n",
       " ('#doodle', 16),\n",
       " ('#OReilly', 16),\n",
       " ('#humor', 16),\n",
       " ('#Komet', 16),\n",
       " ('#LoQueOcurriÃ³ElDomingoEnBarcelona', 16),\n",
       " ('#Rosettaâ€¦', 16),\n",
       " ('#Spacecraft', 16),\n",
       " ('#spacespin', 15),\n",
       " ('#Ukip', 15),\n",
       " ('#asktaddl', 15),\n",
       " ('#edshow', 15),\n",
       " ('#Success', 15),\n",
       " ('#posetoiphilae', 15),\n",
       " ('#SloohRosetta', 15),\n",
       " ('#BruceWillis', 15),\n",
       " ('#Roâ€¦', 15),\n",
       " ('#JOROMIbySheddiyoung', 15),\n",
       " ('#Live', 15),\n",
       " ('#HariAyah', 15),\n",
       " ('#Orion', 14),\n",
       " ('#breaktheinternet', 14),\n",
       " ('#Rosetta-Mission:', 14),\n",
       " ('#Tchouri', 14),\n",
       " ('#comeâ€¦', 14),\n",
       " ('#assteroids', 14),\n",
       " ('#rosettalanding', 14),\n",
       " ('#Historic', 14),\n",
       " ('#Rosetta-Kamera', 14),\n",
       " ('#PoseToiPhilae]', 14),\n",
       " ('#SPN200', 14),\n",
       " ('#Trouw', 14),\n",
       " ('#statistics', 14),\n",
       " ('#SciComm', 14),\n",
       " ('#AufGroÃŸelternbesuch', 14),\n",
       " ('#PlanetaryRadio', 13),\n",
       " ('#AstronomyChat', 13),\n",
       " ('#Rosetâ€¦', 13),\n",
       " ('#spacegeek', 13),\n",
       " ('#LasTardesYaEstanPara', 13),\n",
       " ('#ChristmasIsForSharing', 13),\n",
       " ('#MyFamilyIsWeird', 13),\n",
       " ('#awesome', 13),\n",
       " ('#Stenger', 13),\n",
       " ('#WeCanLaâ€¦', 13),\n",
       " ('#auspol', 13),\n",
       " ('#strike', 13),\n",
       " ('#PhilaeEn67P', 13),\n",
       " ('#Tschuri,', 13),\n",
       " ('#esa_rosetta', 13),\n",
       " ('#Philea', 13),\n",
       " ('#GoPhilae', 13),\n",
       " ('#devoxx', 13),\n",
       " ('#ro', 13),\n",
       " ('#ThingsThatLookLikeKimKardashiansBum', 13),\n",
       " ('#MateoYAndreaLoDanTodo', 13),\n",
       " ('#coâ€¦', 12),\n",
       " ('#cometlandingâ€\\x9d', 12),\n",
       " ('#setitalks:', 12),\n",
       " ('#yesiamgeekingout', 12),\n",
       " ('#Roseâ€¦', 12),\n",
       " ('#wecanlandonacometbutwecant', 12),\n",
       " ('#ciencia.', 12),\n",
       " ('#luxleaks', 12),\n",
       " ('#TeamEdShow', 12),\n",
       " ('#AdmitoQue', 12),\n",
       " ('#EU', 12),\n",
       " ('#RosettaOpNGC', 12),\n",
       " ('#HistoryInTheMaking', 12),\n",
       " ('#Philae\"', 12),\n",
       " ('#GLV', 12),\n",
       " ('#RosettaProbe', 12),\n",
       " ('#Tschuri', 11),\n",
       " ('#LEGO', 11),\n",
       " ('#', 11),\n",
       " ('#direzionepd', 11),\n",
       " ('#spacecraft', 11),\n",
       " ('#TEDTalk:', 11),\n",
       " ('#soundcloud', 11),\n",
       " ('#Philae!', 11),\n",
       " ('#MurrayFTW', 11),\n",
       " ('#SpaceTweeps', 11),\n",
       " ('#xkcd,', 11),\n",
       " ('#Interstellar,', 11),\n",
       " ('#CometaP67.', 11),\n",
       " ('#posetoiPhilae', 11),\n",
       " ('#Noticias', 11),\n",
       " ('#Justice', 11),\n",
       " ('#RESCUE', 11),\n",
       " ('#ARABIA', 11),\n",
       " ('#magazine!', 11),\n",
       " ('#freeofcharge', 11),\n",
       " ('#Maltempo', 11),\n",
       " ('#GLXP', 10),\n",
       " ('#podcast', 10),\n",
       " ('#music', 10),\n",
       " ('#cometlâ€¦', 10),\n",
       " ('#amazing', 10),\n",
       " ('#IoT', 10),\n",
       " ('#AskClapp', 10),\n",
       " ('#Ð\\xadÑ‚Ð¾Ð¼ÑƒÐœÐ¸Ñ€ÑƒÐœÐµÐ½Ñ\\x8fÐ\\x9dÐµÐŸÐ¾Ð½Ñ\\x8fÑ‚ÑŒ', 10),\n",
       " ('#interstellar', 10),\n",
       " ('#Alicec6', 10),\n",
       " ('#Cometlanding.', 10),\n",
       " ('#BenAffleck', 10),\n",
       " ('#P67.', 10),\n",
       " ('#rejectedmuppets', 10),\n",
       " ('#Agilkia,', 10),\n",
       " ('#67P/C-G', 10),\n",
       " ('#Livestream', 9),\n",
       " ('#nasa', 9),\n",
       " ('#asteroid', 9),\n",
       " ('#shirtstorm', 9),\n",
       " ('#SD2', 9),\n",
       " ('#Flickr', 9),\n",
       " ('#cometlandâ€¦', 9),\n",
       " ('#SoundCloud', 9),\n",
       " ('#CometLanding)', 9),\n",
       " ('#cdnpoli', 9),\n",
       " ('#DagiVSTimo', 9),\n",
       " ('#KimK', 9),\n",
       " ('#RodeHeath', 9),\n",
       " ('#puq', 9),\n",
       " ('#cometlandiâ€¦', 9),\n",
       " ('#GirlAlmighty', 9),\n",
       " ('#spaceexploration', 9),\n",
       " (\"#Philae'den\", 9),\n",
       " ('#cometa.', 9),\n",
       " ('#ambition', 9),\n",
       " ('#cometa,invece', 9),\n",
       " ('#montolivo', 9),\n",
       " ('#italianidirosetta', 9),\n",
       " ('#emtechES', 9),\n",
       " ('#GUERRIERO,', 9),\n",
       " ('#FingersCrossed', 9),\n",
       " ('#Ø§Ø²Ø¹Ù„Ùƒ_ÙˆØ§Ø±Ø¶ÙŠÙƒ', 9),\n",
       " ('#Europe', 8),\n",
       " ('#SpaceExploration', 8),\n",
       " ('#Lego', 8),\n",
       " ('#OSIRIS', 8),\n",
       " ('#justsaying', 8),\n",
       " ('#Philae!!', 8),\n",
       " ('#67Pla', 8),\n",
       " ('#Clangers', 8),\n",
       " ('#MarsRover', 8),\n",
       " ('#Cometa', 8),\n",
       " ('#Google', 8),\n",
       " ('#scicomm', 8),\n",
       " ('#win', 8),\n",
       " ('#ciencia', 8),\n",
       " ('#UJSigningParty', 8),\n",
       " ('#3', 8),\n",
       " ('#fingerscrossed', 8),\n",
       " ('#PaÃ\\xads', 8),\n",
       " ('#Nautilus', 8),\n",
       " ('#HumansRule', 8),\n",
       " ('#Rosâ€¦', 8),\n",
       " ('#Philaelander', 8),\n",
       " ('#komeet', 8),\n",
       " ('#FarCry', 8),\n",
       " ('#indiedev', 8),\n",
       " ('#histÃ³rico', 8),\n",
       " ('#trending', 8),\n",
       " ('#twitter.', 8),\n",
       " ('#movie', 8),\n",
       " ('#thingsthatlooklike67p', 8),\n",
       " ('#NewHorizons', 7),\n",
       " ('#rokerthon', 7),\n",
       " ('#cometlanding]', 7),\n",
       " ('#newsnight', 7),\n",
       " ('#philae2014', 7),\n",
       " ('#3dprinting', 7),\n",
       " ('#matttaylor', 7),\n",
       " ('#Cometlanding,', 7),\n",
       " ('#Rosetta...', 7),\n",
       " ('#Hayabâ€¦', 7),\n",
       " ('#tcot', 7),\n",
       " ('#shirtgate', 7),\n",
       " ('#Ukraine', 7),\n",
       " ('#Vangelis', 7),\n",
       " ('#goscience', 7),\n",
       " ('#stillexcited', 7),\n",
       " ('#WeCanLandOnACometButWeCant.', 7),\n",
       " ('#Rudolph', 7),\n",
       " ('#scifi', 7),\n",
       " ('#dkpol', 7),\n",
       " ('#Supernatural', 7),\n",
       " ('#selfie?', 7),\n",
       " ('#competition', 7),\n",
       " ('#2prizes', 7),\n",
       " ('#UstedDeberia', 7),\n",
       " ('#CoisasQuePrecisoNaMinhaVida', 7),\n",
       " ('#meteTaxaNumFilme', 7),\n",
       " ('#ISIS', 7),\n",
       " ('#KINGYAMMOUNI', 7),\n",
       " ('#noticias', 7),\n",
       " ('#Ukranian', 7),\n",
       " ('#Rosseâ€¦', 7),\n",
       " ('#cometlanding...', 7),\n",
       " ('#cctf', 7),\n",
       " ('#uniteblue', 7),\n",
       " ('#Toulouse', 7),\n",
       " ('#IronSky', 7),\n",
       " ('#london', 7),\n",
       " ('#CometLanding!!', 7),\n",
       " ('#Darmstadt', 7),\n",
       " ('#RollersMusicAwards', 7),\n",
       " ('#solar', 7),\n",
       " ('#Phâ€¦', 7),\n",
       " ('#ESA.', 7),\n",
       " ('#askbbs', 7),\n",
       " ('#streaming', 7),\n",
       " ('#WeWantNayaPakistan', 7),\n",
       " ('#SaluteExpatPakistanis', 7),\n",
       " ('#CometTrek', 7),\n",
       " ('#owd14', 7),\n",
       " ('#ATV5', 7),\n",
       " ('#CometLandingâ€™', 7),\n",
       " ('#Watch', 7),\n",
       " ('#ESA-Event', 7),\n",
       " ('#67P.Debe', 7),\n",
       " ('#Tchouri!!!!', 7),\n",
       " ('#HariAyâ€¦', 7),\n",
       " ('#bettertogether', 7),\n",
       " ('#BNEGlobalCafe', 7),\n",
       " ('#7HoursOfTerror', 7),\n",
       " ('#Ð', 6),\n",
       " ('#GamerGate', 6),\n",
       " ('#murica', 6),\n",
       " ('#retweet', 6),\n",
       " ('#P...', 6),\n",
       " ('#socialmedia', 6),\n",
       " ('#cometlanding:317,5â€¦', 6),\n",
       " ('#MutualFriends', 6),\n",
       " ('#oâ€¦', 6),\n",
       " ('#HarryMeetMichaela', 6),\n",
       " ('#SoundCloud?', 6),\n",
       " ('#cbcto', 6),\n",
       " ('#YaMeCanse', 6),\n",
       " ('#Toronto', 6),\n",
       " ('#whiskerswednesday', 6),\n",
       " ('#CometLanding.Wir', 6),\n",
       " ('#landing', 6),\n",
       " ('#Awesome', 6),\n",
       " ('#ROSETTA', 6),\n",
       " ('#BUTTS', 6),\n",
       " ('#FelizCumpleEnzo', 6),\n",
       " (\"#edshow's\", 6),\n",
       " ('#RapidResponse', 6),\n",
       " ('#IRL', 6),\n",
       " ('#Priorities', 6),\n",
       " ('#1tyb3', 6),\n",
       " ('#Wow!', 6),\n",
       " ('#BER?!', 6),\n",
       " ('#historic', 6),\n",
       " ('#CosmicCupcakes', 6),\n",
       " ('#Interstellar.', 6),\n",
       " ('#MADRIDMIRAABOGOTA', 6),\n",
       " ('#engineering', 6),\n",
       " ('#sciencerocks', 6),\n",
       " ('#Congratulations', 6),\n",
       " ('#HintingSeason', 6),\n",
       " ('#excited', 6),\n",
       " (\"#Philae'nin\", 6),\n",
       " ('#physics', 6),\n",
       " ('#bbcnews', 6),\n",
       " ('#Huygens', 6),\n",
       " ('#Comet67P.', 6),\n",
       " ('#SocialMediaPicks', 6),\n",
       " ('#News', 6),\n",
       " ('#CometLandingã€€@esaã€€`-.â€¦', 6),\n",
       " ('#goodluck', 6),\n",
       " ('#rosettâ€¦', 6),\n",
       " ('#Pousonocometa', 6),\n",
       " ('#Futures', 6),\n",
       " ('#TT', 6),\n",
       " (\"#Rosetta'dan\", 6),\n",
       " ('#lookingatthings', 6),\n",
       " ('#thatsnocomet', 6),\n",
       " ('#Esa', 6),\n",
       " ('#FLMoons15', 6),\n",
       " ('#FLOrion15', 6),\n",
       " ('#Polish', 6),\n",
       " ('#comÃ¨te', 6),\n",
       " ('#Thales', 6),\n",
       " ('#PinkLittleDragon', 6),\n",
       " ('#Ã‡IVA', 6),\n",
       " ('#Bush43', 6),\n",
       " ('#tswift', 6),\n",
       " ('#tense', 6),\n",
       " ('#portaaporta,', 6),\n",
       " ('#cometsans', 6),\n",
       " ('#meow', 6),\n",
       " ('#momentistorici', 6),\n",
       " ('#E1midi', 6),\n",
       " ('#ALittleSomethingNew', 6),\n",
       " ('#LunarMissionOne', 5),\n",
       " ('#HappyFriday', 5),\n",
       " ('#BuffaloSnow', 5),\n",
       " ('#comedy', 5),\n",
       " ('#Makepeace', 5),\n",
       " ('#hour4peace', 5),\n",
       " ('#Ferguson', 5),\n",
       " ('#botdropitlikeitshot', 5),\n",
       " ('#Stevenage', 5),\n",
       " ('#fâ€¦', 5),\n",
       " ('#Engraving', 5),\n",
       " ('#Illustration', 5),\n",
       " ('#Cthulhu', 5),\n",
       " ('#Art', 5),\n",
       " ('#MarcaEspaÃ±a', 5),\n",
       " ('#ESTEC', 5),\n",
       " ('#SkyAtNight', 5),\n",
       " ('#TheApprentice', 5),\n",
       " ('#ChevyFeathers2014', 5),\n",
       " ('#gamedev', 5),\n",
       " ('#brucewillis', 5),\n",
       " ('#p2', 5),\n",
       " ('#rocks!', 5),\n",
       " ('#BER', 5),\n",
       " ('#CometLanding!!!', 5),\n",
       " ('#37mathsdays', 5),\n",
       " ('#RT', 5),\n",
       " ('#Sevillahoy,', 5),\n",
       " ('#EconomÃ\\xada', 5),\n",
       " ('#EHUskaraz', 5),\n",
       " ('#ereeuskaraz', 5),\n",
       " ('#umap', 5),\n",
       " ('#euskalTT', 5),\n",
       " ('#AksMiranda', 5),\n",
       " ('#QuieroUnXperiaZ3', 5),\n",
       " ('#harpoon', 5),\n",
       " ('#reversearmaggedon', 5),\n",
       " ('#TELESCOPES', 5),\n",
       " ('#creative', 5),\n",
       " ('#advertising', 5),\n",
       " ('#Rosetta\"', 5),\n",
       " ('#exploration', 5),\n",
       " ('#seriousaboutscience.', 5),\n",
       " ('#Rosettaâ€\\x9d', 5),\n",
       " ('#ListaDuff', 5),\n",
       " ('#Ushkaba', 5),\n",
       " ('#PHILAE', 5),\n",
       " ('#humans', 5),\n",
       " ('#Space:', 5),\n",
       " ('#toilet.', 5),\n",
       " ('#Comet.', 5),\n",
       " ('#cometLanding.', 5),\n",
       " ('#WhoIAMDiscoDeOro', 5),\n",
       " ('#KSP', 5),\n",
       " ('#Ascension', 5),\n",
       " ('#Humankind', 5),\n",
       " ('#scienceBitch', 5),\n",
       " ('#paarty', 5),\n",
       " ('#wiggleWiggle', 5),\n",
       " ('#VeteransDay', 5),\n",
       " ('#P67,', 5),\n",
       " ('#SciWK2014', 5),\n",
       " ('#ActionComet', 5),\n",
       " ('#CometLandingÂ', 5),\n",
       " ('#BreakingNews:', 5),\n",
       " ('#excitingtimes', 5),\n",
       " ('#AMAHigherEd', 5),\n",
       " ('#SigningDay', 5),\n",
       " ('#Exciting', 5),\n",
       " ('#NUKE', 5),\n",
       " ('#DSN', 5),\n",
       " ('#bargin', 5),\n",
       " ('#tech', 5),\n",
       " ('#rosettamisâ€¦', 5),\n",
       " ('#ROSETTA/#PHILAE/#COMETLANDING', 5),\n",
       " ('#fragdieesa', 5),\n",
       " ('#TFC', 5),\n",
       " ('#MLSplayoffs.', 5),\n",
       " ('#Harley', 5),\n",
       " ('#HarleyDavidson', 5),\n",
       " ('#Comet67P]', 5),\n",
       " ('#sciencecommunication', 5),\n",
       " ('#Rokerthon.', 5),\n",
       " ('#Rosetta-Fans,', 5),\n",
       " ('#ORFScience', 5),\n",
       " ('#Christmas', 5),\n",
       " ('#italianidirosetta.', 5),\n",
       " ('#Rosetta-Nerds:', 5),\n",
       " ('#theneeds:', 5),\n",
       " ('#JuegoInteractivo', 5),\n",
       " ('#torsapienza', 5),\n",
       " ('#ESOC,', 5),\n",
       " ('#originoflife.', 5),\n",
       " ('#LIVE', 5),\n",
       " ('#3dprint', 5),\n",
       " ('#3dprinter', 5),\n",
       " ('#areyoubetta', 5),\n",
       " ('#SongsForPhilaeToSleepBy', 4),\n",
       " ('#movies', 4),\n",
       " ('#LibertyOfLondon', 4),\n",
       " ('#MarsOne', 4),\n",
       " ('#Africa2Moon', 4),\n",
       " ('#philaelander', 4),\n",
       " ('#humanity', 4),\n",
       " ('#CarlSagan', 4),\n",
       " ('#comet67P', 4),\n",
       " ('#ShirtGate', 4),\n",
       " ('#HastaSiempreChespirito', 4),\n",
       " ('#IntelligenceTV', 4),\n",
       " ('#spazioaperto', 4),\n",
       " ('#...', 4),\n",
       " ('#space.', 4),\n",
       " ('#esoc', 4),\n",
       " ('#TOWIE', 4),\n",
       " ('#madeinchelsea', 4),\n",
       " ('#Exclu', 4),\n",
       " ('#BFMTV', 4),\n",
       " ('#lego', 4),\n",
       " ('#RosettaAreWeThereYet', 4),\n",
       " ('#Australia', 4),\n",
       " ('#CNN', 4),\n",
       " ('#67PCG', 4),\n",
       " ('#alicec6', 4),\n",
       " ('#CBSN,', 4),\n",
       " ('#era', 4),\n",
       " ('#belice', 4),\n",
       " ('#probe', 4),\n",
       " ('#BoldlyGo', 4),\n",
       " ('#TVtotal', 4),\n",
       " ('#CometBouncing', 4),\n",
       " ('#rosetta.', 4),\n",
       " ('#edsheeransthlm', 4),\n",
       " ('#ackermann', 4),\n",
       " ('#Aeropuerto', 4),\n",
       " ('#Yoda', 4),\n",
       " ('#JustinBieber', 4),\n",
       " ('#competition!', 4),\n",
       " ('#67P...', 4),\n",
       " ('#TeamJesus', 4),\n",
       " ('#Engineers', 4),\n",
       " ('#PosetoiPhilae', 4),\n",
       " ('#DOFUS', 4),\n",
       " ('#Amazing', 4),\n",
       " ('#ScienceWeek', 4),\n",
       " ('#Gaza', 4),\n",
       " ('#IslamicState', 4),\n",
       " ('#islam', 4),\n",
       " ('#ESAC', 4),\n",
       " ('#LorenEiseley', 4),\n",
       " ('#poetry', 4),\n",
       " ('#naturalist', 4),\n",
       " ('#http://bit.ly/1aP7f3g', 4),\n",
       " ('#philea2014', 4),\n",
       " ('#yay', 4),\n",
       " ('#agilkia', 4),\n",
       " ('#ILoveScience', 4),\n",
       " ('#Pâ€¦', 4),\n",
       " ('#Rosettâ€¦', 4),\n",
       " ('#Finnish', 4),\n",
       " ('#vote5sos', 4),\n",
       " ('#CometLanding!!!!!!!!!', 4),\n",
       " ('#COMETSTABBING', 4),\n",
       " ('#FÃ\\xadsicaNaVeia', 4),\n",
       " ('#TeamEarth', 4),\n",
       " ('#emozione', 4),\n",
       " ('#kerbalcast', 4),\n",
       " ('#Germany', 4),\n",
       " ('#discoRules', 4),\n",
       " ('#churyâ€¦', 4),\n",
       " ('#SouthAfrica', 4),\n",
       " ('#dps14', 4),\n",
       " ('#ou_rosetta', 4),\n",
       " ('#ESâ€¦', 4),\n",
       " ('#CometStabbing', 4),\n",
       " ('#Unal', 4),\n",
       " ('#Cologne', 4),\n",
       " ('#NASATV', 4),\n",
       " ('#philae,', 4),\n",
       " ('#DDM20', 4),\n",
       " ('#Rosettamission', 4),\n",
       " ('#CometLanding:1hr', 4),\n",
       " ('#Osiris', 4),\n",
       " ('#Bratfest', 4),\n",
       " ('#exciting', 4),\n",
       " ('#Posâ€¦', 4),\n",
       " (\"#ESA's\", 4),\n",
       " ('#ACCANigeriaSummit2014', 4),\n",
       " ('#Fiscal', 4),\n",
       " ('#AlgonquinPark', 4),\n",
       " ('#ãƒ•ã‚£ãƒ¬ãƒ¼', 4),\n",
       " ('#tweetfleet', 4),\n",
       " ('#LiveStreaming', 4),\n",
       " ('#republicans', 4),\n",
       " ('#SpaceRomance', 4),\n",
       " ('#WTFact', 4),\n",
       " ('#GoodLuck', 4),\n",
       " ('#Science:', 4),\n",
       " ('#landonthatspacething', 4),\n",
       " ('#Astronomy,', 4),\n",
       " ('#Raumfahrt', 4),\n",
       " ('#First', 4),\n",
       " ('#diasmalos', 4),\n",
       " ('#67P;', 4),\n",
       " ('#atheism', 4),\n",
       " ('#radiocontact', 4),\n",
       " ('#theneeds,', 4),\n",
       " ('#AeroportCastellÃ³', 4),\n",
       " ('#MUSC', 4),\n",
       " ('#Separated', 4),\n",
       " ('#ff', 4),\n",
       " ('#maltempo', 4),\n",
       " ('#Rosetta-Wissenschaftler', 4),\n",
       " ('#ruimtevaart', 4),\n",
       " ('#KÄ±ÅŸÄ±nTadÄ±nÄ±HRSileÃ‡Ä±kar', 4),\n",
       " ('#lander', 3),\n",
       " ('#MiniMansbridge', 3),\n",
       " ('#LetItSnow', 3),\n",
       " ('#trap', 3),\n",
       " ('#Mars', 3),\n",
       " ('#corsilingua', 3),\n",
       " ('#cometsighting', 3),\n",
       " ('#cometlanding??', 3),\n",
       " ('#love', 3),\n",
       " ('#Kometen', 3),\n",
       " ('#foto', 3),\n",
       " ('#datass', 3),\n",
       " ('#Rosetta]', 3),\n",
       " ('#housingday', 3),\n",
       " ('#future', 3),\n",
       " ('#art', 3),\n",
       " ('#xfactor', 3),\n",
       " ('#ROMAP', 3),\n",
       " ('#scichat', 3),\n",
       " ('#EdChat', 3),\n",
       " ('#Alien', 3),\n",
       " ('#Canadian', 3),\n",
       " ('#WindowWashers', 3),\n",
       " ('#NotJustSad', 3),\n",
       " ('#comet,', 3),\n",
       " ('#science.', 3),\n",
       " ('#NYC', 3),\n",
       " ('#DeepImpact', 3),\n",
       " ('#OrgulloTernium', 3),\n",
       " ('#JulienBlanc', 3),\n",
       " ('#NSFW.', 3),\n",
       " ('#zero14', 3),\n",
       " ('#NRomanos', 3),\n",
       " ('#nedmex', 3),\n",
       " ('#libraryâ€¦', 3),\n",
       " ('#GB200', 3),\n",
       " ('#ThatNewCometSmell', 3),\n",
       " ('#BuyFromAnSMEThisXMAS', 3),\n",
       " ('#DizzyHeights', 3),\n",
       " ('#irishbizparty', 3),\n",
       " ('#swedekids', 3),\n",
       " ('#cosmos', 3),\n",
       " ('#SoyDelNortePor', 3),\n",
       " ('#HappyBirthdayOmar', 3),\n",
       " ('#Efterlyst', 3),\n",
       " ('#ScienceBitch', 3),\n",
       " ('#317millioâ€¦', 3),\n",
       " ('#development', 3),\n",
       " ('#SkyNewsTonight', 3),\n",
       " ('#Zod', 3),\n",
       " ('#makinghistory', 3),\n",
       " ('#IrishWater', 3),\n",
       " ('#coffee', 3),\n",
       " ('#touchdown!!!!', 3),\n",
       " ('#Essex', 3),\n",
       " ('#StarWars', 3),\n",
       " ('#GoT', 3),\n",
       " ('#ScienceIsCool', 3),\n",
       " ('#Robot', 3),\n",
       " ('#2MA', 3),\n",
       " ('#VIDEO', 3),\n",
       " ('#WorldToiletDay', 3),\n",
       " ('#GoRosetta', 3),\n",
       " ('#Tibet', 3),\n",
       " ('#MadeinEurope!', 3),\n",
       " ('#outerspace', 3),\n",
       " ('#WordCrushWednesday', 3),\n",
       " ('#HoyEnLaRed:', 3),\n",
       " ('#Forever20', 3),\n",
       " ('#Storify', 3),\n",
       " ('#comet.', 3),\n",
       " ('#dtv', 3),\n",
       " ('#HeySheikhAkbar', 3),\n",
       " ('#Philaâ€¦', 3),\n",
       " ('#Padova', 3),\n",
       " ('#Philâ€¦', 3),\n",
       " ('#CutePhilae', 3),\n",
       " ('#SocialMediaMarketing', 3),\n",
       " ('#Pilae', 3),\n",
       " ('#amazing,', 3),\n",
       " ('#viÃ±eta', 3),\n",
       " ('#ConcertForValor', 3),\n",
       " ('#moonlanding', 3),\n",
       " ('#ESA:', 3),\n",
       " ('#CometLandingâ€¦.good', 3),\n",
       " ('#GetWellCeasar', 3),\n",
       " ('#Rosette', 3),\n",
       " ('#bbâ€¦', 3),\n",
       " ('#cartoon', 3),\n",
       " ('#nerds', 3),\n",
       " ('#UKIP', 3),\n",
       " ('#NoMeConformo', 3),\n",
       " ('#AskLamiya', 3),\n",
       " ('#marketing', 3),\n",
       " ('#7HoursofTerror', 3),\n",
       " ('#rolis', 3),\n",
       " (\"#UKIP's\", 3),\n",
       " ('#FnacamisetaAlboran', 3),\n",
       " ('#comets', 3),\n",
       " ('#SonyAlpha)', 3),\n",
       " ('#justkidding', 3),\n",
       " ('#wellmostlykidding', 3),\n",
       " ('#DontPanic', 3),\n",
       " ('#Balkany', 3),\n",
       " ('#WOW', 3),\n",
       " ('#kerbal', 3),\n",
       " ('#touchdown!', 3),\n",
       " ('#Telespatz', 3),\n",
       " ('#livestream', 3),\n",
       " ('#cometlandinâ€¦', 3),\n",
       " ('#CNES', 3),\n",
       " ('#notrocketscience', 3),\n",
       " ('#FestivalDelHumor', 3),\n",
       " ('#entendu', 3),\n",
       " ('#Touchdown', 3),\n",
       " ('#BigStory', 3),\n",
       " ('#ESA_Râ€¦', 3),\n",
       " ('#innovation', 3),\n",
       " ('#GameDev', 3),\n",
       " ('#VomitLanding', 3),\n",
       " ('#hdyaris', 3),\n",
       " ('#Dubai', 3),\n",
       " ('#1', 3),\n",
       " ('#welivâ€¦', 3),\n",
       " ('#Breaking:', 3),\n",
       " ('#CometLanding...the', 3),\n",
       " ('#Earth', 3),\n",
       " ('#Jeez', 3),\n",
       " ('#Explore', 3),\n",
       " ('#67P/Churyumovâ€“Gerasimenko', 3),\n",
       " ('#vangelis', 3),\n",
       " ('#Rosetta-Mission', 3),\n",
       " ('#WatchHistory', 3),\n",
       " ('#ea', 3),\n",
       " ('#epm', 3),\n",
       " ('#eam', 3),\n",
       " ('#bi', 3),\n",
       " ('#graysontravels', 3),\n",
       " ('#UMD', 3),\n",
       " ('#Trending', 3),\n",
       " ('#Churyumov', 3),\n",
       " ('#anxious', 3),\n",
       " ('#5HOnGMA', 3),\n",
       " ('#Rokerthon', 3),\n",
       " ('#RIPZoboomafoo', 3),\n",
       " ('#HaloOutNow', 3),\n",
       " ('#BookBoost', 3),\n",
       " ('#IAN1', 3),\n",
       " ('#rubberduckie', 3),\n",
       " ('#twerkbot', 3),\n",
       " ('#virtualdj', 3),\n",
       " ('#Lander-Technik.', 3),\n",
       " ('#whales?', 3),\n",
       " ('#lol', 3),\n",
       " ('#WatchLive', 3),\n",
       " ('#kometen', 3),\n",
       " ('#LCC', 3),\n",
       " ('#ou_Rosetta', 3),\n",
       " ('#LettingGo', 3),\n",
       " ('#LibreCon', 3),\n",
       " ('#ãƒ\\xadã‚¼ãƒƒã‚¿', 3),\n",
       " ('#Venezuela', 3),\n",
       " ('#gophilae', 3),\n",
       " ('#nervios', 3),\n",
       " ('#MissionRosetta', 3),\n",
       " ('#Rosetta-Mission...', 3),\n",
       " ('#astronaut!', 3),\n",
       " ('#rosâ€¦', 3),\n",
       " ('#ScienceDiâ€¦', 3),\n",
       " ('#webcast', 3),\n",
       " ('#LiveStream', 3),\n",
       " ('#JOROMi', 3),\n",
       " ('#FOURHANGOUT', 3),\n",
       " ('#@esa', 3),\n",
       " ('#astrohandbook', 3),\n",
       " ('#AskLiamFallonTonight', 3),\n",
       " ('#trouw', 3),\n",
       " ('#nhk', 3),\n",
       " ('#Scrollytelling', 3),\n",
       " ('#series', 3),\n",
       " ('#compositions', 3),\n",
       " ('#released', 3),\n",
       " ('#Arrival\"', 3),\n",
       " ('#PalabraDeRajoyM4', 3),\n",
       " ('#tuttoÃ¨possibile,', 3),\n",
       " ('#Devoxx', 3),\n",
       " ('#nature', 3),\n",
       " ('#AloneWeFail', 3),\n",
       " ('#Rosettak', 3),\n",
       " ('#indiegamedev', 3),\n",
       " ('#PoseToiPhilâ€¦', 3),\n",
       " ('#Japaâ€¦', 3),\n",
       " ('#newgtlds', 3),\n",
       " ('#ICANN', 3),\n",
       " ('#dessin', 3),\n",
       " ('#krachtontour', 3),\n",
       " ('#Interstellar-Fun', 3),\n",
       " ('#mÃ¡gico', 3),\n",
       " ('#fuentedevida', 3),\n",
       " ('#streamiâ€¦', 3),\n",
       " ('#ESA_rosettamission', 3),\n",
       " ('#BreakTheInterâ€¦', 3),\n",
       " ('#patienâ€¦', 3),\n",
       " ('#Selfie', 3),\n",
       " ('#BlueDot', 3),\n",
       " ('#blogger', 3),\n",
       " ('#HappyBirthday', 3),\n",
       " ('#scienceweek', 3),\n",
       " ('#HistoryInTâ€¦', 3),\n",
       " ('#IsaacNewton', 3),\n",
       " ('#TensionBuilds', 3),\n",
       " ('#râ€¦', 3),\n",
       " ('#cool', 3),\n",
       " ('#AGU2013', 3),\n",
       " ('#MtRâ€¦', 2),\n",
       " ('#OrionLaunch', 2),\n",
       " ('#pancakeart', 2),\n",
       " ('#womeninscience', 2),\n",
       " ('#G20Brisbane', 2),\n",
       " ('#feminism', 2),\n",
       " (\"#cometlanding's\", 2),\n",
       " ('#CometWatâ€¦', 2),\n",
       " ('#frostesflakes', 2),\n",
       " ('#liar', 2),\n",
       " ('#CrimingWhileWhite', 2),\n",
       " ('#ogtswldka', 2),\n",
       " ('#8DaysOfOnika', 2),\n",
       " ('#HaloMCC', 2),\n",
       " ('#autumnstatement', 2),\n",
       " ('#isis', 2),\n",
       " ('#AS2014', 2),\n",
       " ('#bbcinsidescience', 2),\n",
       " ('#Spotify', 2),\n",
       " ('#WakeUpPhilae', 2),\n",
       " ('#Finmeccanica', 2),\n",
       " ('#IntelFan', 2),\n",
       " ('#ios', 2),\n",
       " ('#Ariane', 2),\n",
       " ('#67p,', 2),\n",
       " ('#breaktheinternet.', 2),\n",
       " ('#CR7', 2),\n",
       " ('#BallondOr', 2),\n",
       " ('#BallondOr2014', 2),\n",
       " ('#ronaldo', 2),\n",
       " ('#rvp', 2),\n",
       " ('#Futura42', 2),\n",
       " ('#Eternit', 2),\n",
       " ('#autismo.', 2),\n",
       " ('#design', 2),\n",
       " ('#BreakFromGravity', 2),\n",
       " ('#Astronomy', 2),\n",
       " ('#THISiswhatSCIENCElookslike', 2),\n",
       " ('#FuckYoCouch', 2),\n",
       " ('#fire', 2),\n",
       " ('#school', 2),\n",
       " ('#edm', 2),\n",
       " ('#Phi...', 2),\n",
       " ('#Letters', 2),\n",
       " ('#water', 2),\n",
       " ('#freshwaterforall', 2),\n",
       " ('#StarTrek', 2),\n",
       " ('#PJNET', 2),\n",
       " ('#blackfridaydeals', 2),\n",
       " ('#ESA_Rosâ€¦', 2),\n",
       " ('#News:', 2),\n",
       " ('#ThingsThatAreNotMosques', 2),\n",
       " ('#R...', 2),\n",
       " ('#Wealdstone', 2),\n",
       " ('#Raider', 2),\n",
       " ('#WealdstoneRaider', 2),\n",
       " ('#Philae,#philae2014,#CometLanding', 2),\n",
       " ('#spaceNews,#electricUniverse', 2),\n",
       " ('#Bahn-Verkehr', 2),\n",
       " ('#Christ)', 2),\n",
       " ('#An', 2),\n",
       " ('#Qâ™¥,4â™', 2),\n",
       " ('#Ti', 2),\n",
       " ('#Qâ™¦', 2),\n",
       " ('#Go', 2),\n",
       " ('#Muvhango', 2),\n",
       " ('#eusouobservador', 2),\n",
       " ('#MisiÃ³nRosetta,', 2),\n",
       " ...]"
      ]
     },
     "execution_count": 110,
     "metadata": {},
     "output_type": "execute_result"
    }
   ],
   "source": [
    "hashtags_list = df.text.str.findall(r'#.*?(?=\\s|$)') #https://stackoverflow.com/questions/45874879/extract-hashtags-from-columns-of-a-pandas-dataframe\n",
    "hashtags = hashtags_list.tolist()\n",
    "hashtags = [item for sublist in hashtags for item in sublist] # https://stackoverflow.com/questions/952914/making-a-flat-list-out-of-list-of-lists-in-python\n",
    "count = Counter(hashtags)\n",
    "count.most_common()\n",
    "#TODO - print nicely"
   ]
  },
  {
   "cell_type": "markdown",
   "metadata": {},
   "source": [
    "## 3. Build plots/visualisations"
   ]
  },
  {
   "cell_type": "markdown",
   "metadata": {},
   "source": [
    "### 3.1) The structure of the dataset"
   ]
  },
  {
   "cell_type": "code",
   "execution_count": 111,
   "metadata": {},
   "outputs": [],
   "source": [
    "structure_names = [\"Tweets\", \"Retweets\", \"Replies\"]"
   ]
  },
  {
   "cell_type": "code",
   "execution_count": 112,
   "metadata": {},
   "outputs": [],
   "source": [
    "structure_data = [numTweets, numRT, numReplies]"
   ]
  },
  {
   "cell_type": "code",
   "execution_count": 113,
   "metadata": {},
   "outputs": [
    {
     "data": {
      "image/png": "[encoded data removed]",
      "text/plain": [
       "<matplotlib.figure.Figure at 0x1104f0710>"
      ]
     },
     "metadata": {},
     "output_type": "display_data"
    }
   ],
   "source": [
    "plt.bar(structure_names, structure_data, align=\"center\")\n",
    "plt.ylabel('Amount')\n",
    "plt.title('Amount of Tweet Types')\n",
    "plt.show()"
   ]
  },
  {
   "cell_type": "markdown",
   "metadata": {},
   "source": [
    "### 3.2) The timeline of the tweets activity"
   ]
  },
  {
   "cell_type": "code",
   "execution_count": 118,
   "metadata": {},
   "outputs": [],
   "source": [
    "df.date_time = [str(x) for x in df[\"time\"]]\n",
    "df.date_time = [x.split(\" \")[0] for x in df[\"time\"]]\n",
    "df.date_time = pd.to_datetime(df.date_time, dayfirst=True)"
   ]
  },
  {
   "cell_type": "code",
   "execution_count": 121,
   "metadata": {
    "scrolled": false
   },
   "outputs": [
    {
     "data": {
      "image/png": "[encoded data removed]",
      "text/plain": [
       "<matplotlib.figure.Figure at 0x1104e59b0>"
      ]
     },
     "metadata": {},
     "output_type": "display_data"
    }
   ],
   "source": [
    "plt.rcParams[\"figure.figsize\"] = [15, 6]\n",
    "#values = df[\"time\"].value_counts()\n",
    "#values.index = pd.to_datetime(values.index)\n",
    "#values = values.sort_index()\n",
    "values = pd.DataFrame(df.date_time.value_counts().reset_index())\n",
    "values.columns = [\"date\", \"amount\"]\n",
    "values = values.sort_values(by=\"date\")\n",
    "plt.plot([str(x).split(\" \")[0] for x in values.date], values.amount)\n",
    "plt.yscale(\"log\")\n",
    "plt.title(\"Number of tweets by date\")\n",
    "\n",
    "#for i in values:\n",
    "    #plt.annotate(values.amount[i], (values.date[i], values.amount[i])\n",
    "    \n",
    "plt.show()"
   ]
  },
  {
   "cell_type": "markdown",
   "metadata": {},
   "source": [
    "### 3.3) Word cloud for hashtags"
   ]
  },
  {
   "cell_type": "code",
   "execution_count": null,
   "metadata": {},
   "outputs": [],
   "source": [
    "hashtagDictionary = dict(count)\n",
    "\n",
    "wordcloud = wc(max_font_size=80).generate_from_frequencies(hashtagDictionary)\n",
    "plt.figure(dpi=300)\n",
    "plt.imshow(wordcloud, interpolation=\"bilinear\")\n",
    "plt.axis(\"off\")\n",
    "plt.show()"
   ]
  },
  {
   "cell_type": "markdown",
   "metadata": {
    "collapsed": true
   },
   "source": [
    "# Extensions"
   ]
  },
  {
   "cell_type": "markdown",
   "metadata": {},
   "source": [
    "## Easy 1 - Analyse applications used to send tweets"
   ]
  },
  {
   "cell_type": "code",
   "execution_count": null,
   "metadata": {},
   "outputs": [],
   "source": [
    "app_list = df.source.str.findall(r'<a[^>]*>(.*)</a>') #https://stackoverflow.com/questions/36336228/python-regex-extract-text-within-html-tags\n",
    "app_list = app_list.tolist()\n",
    "i = 0\n",
    "for item in app_list:\n",
    "    if isinstance(item, list):\n",
    "        app_list[i] = item[0]\n",
    "    i+=1\n",
    "apps = pd.Series(app_list).value_counts().reset_index()\n",
    "print(\"Total number of unique applications: \" + str(len(apps)))\n",
    "print(\"10 most popular applications, number 5 will SHOCK you!\")\n",
    "apps.columns = [\"Applications\", \"Number\"]\n",
    "for i in range(1, 10):\n",
    "    print(str(i) + \". \" + apps[\"Applications\"][i] + \" - \" + str(apps[\"Number\"][i]))"
   ]
  },
  {
   "cell_type": "code",
   "execution_count": null,
   "metadata": {},
   "outputs": [],
   "source": [
    "popular_apps = apps.iloc[0:5] #Get 5 most popular\n",
    "popular_apps.columns = [\"Applications\", \"Number\"]\n",
    "\n",
    "colors = ['gold', 'yellowgreen', 'lightcoral', 'lightskyblue', 'silver']\n",
    "explode = (0.1, 0, 0, 0, 0) \n",
    " \n",
    "plt.pie(popular_apps[\"Number\"], explode=explode, labels=popular_apps[\"Applications\"], colors=colors,\n",
    "        autopct='%1.1f%%', shadow=True, startangle=140)\n",
    " \n",
    "plt.axis('equal')\n",
    "plt.title(\"Popularity of Twitter Apps\")\n",
    "plt.show()"
   ]
  },
  {
   "cell_type": "markdown",
   "metadata": {},
   "source": [
    "## Easy 2 - More descriptive analysis"
   ]
  },
  {
   "cell_type": "markdown",
   "metadata": {},
   "source": [
    "### Average time each user was retweeted and replied"
   ]
  },
  {
   "cell_type": "code",
   "execution_count": null,
   "metadata": {},
   "outputs": [],
   "source": [
    "cd = df[[\"text\", \"from_user\"]]\n",
    "pd.options.mode.chained_assignment = None\n",
    "cd.drop_duplicates([\"text\"], inplace = True) #Duplicate tweets don't count\n",
    "cd.drop_duplicates([\"from_user\"], inplace = True) #Count the number of users\n",
    "cd = cd[\"text\"][np.logical_not (cd[\"text\"].str.startswith('RT', na=False))] #Don't count retweets of retweets, since it should be attributed to the original user\n",
    "num_unique_users = len(cd);\n",
    "print(\"Number of users who made a unique tweet:\", str(num_unique_users))"
   ]
  },
  {
   "cell_type": "code",
   "execution_count": null,
   "metadata": {},
   "outputs": [],
   "source": [
    "numRTPerUser = numRT / num_unique_users\n",
    "print(\"Avg. number of times each user was retweeted:\", str(numRTPerUser))"
   ]
  },
  {
   "cell_type": "code",
   "execution_count": null,
   "metadata": {},
   "outputs": [],
   "source": [
    "numUserReplies = len(df[df['in_reply_to_user_id_str'].notnull()])\n",
    "print(\"Number of times a user was replied: \", numUserReplies)"
   ]
  },
  {
   "cell_type": "code",
   "execution_count": null,
   "metadata": {},
   "outputs": [],
   "source": [
    "numRepliesPerUser = numUserReplies / numUsers\n",
    "print(\"Avg. number of times each user was replied:\", str(numRepliesPerUser))"
   ]
  },
  {
   "cell_type": "markdown",
   "metadata": {},
   "source": [
    "### Popular times"
   ]
  },
  {
   "cell_type": "code",
   "execution_count": 189,
   "metadata": {},
   "outputs": [
    {
     "name": "stdout",
     "output_type": "stream",
     "text": [
      "Most popular hours to tweet:\n"
     ]
    },
    {
     "data": {
      "image/png": "[encoded data removed]",
      "text/plain": [
       "<matplotlib.figure.Figure at 0x11ce78278>"
      ]
     },
     "metadata": {},
     "output_type": "display_data"
    }
   ],
   "source": [
    "df[\"hour_time\"] = [str(x) for x in df[\"time\"]]\n",
    "df[\"hour_time\"] = [x.split(\" \")[1].split(\":\")[0] for x in df[\"time\"]]\n",
    "df[\"hour_time\"] = pd.Series(item for item in df[\"hour_time\"])\n",
    "\n",
    "a = Counter(df[\"hour_time\"])\n",
    "hours = [keys for keys in a]\n",
    "values = [a[str(hour)] for hour in hours]\n",
    "pt = {\"hours\":hours, \"values\":values}\n",
    "pt = pd.DataFrame(pt)\n",
    "pt = pt.sort_values(by=\"hours\")\n",
    "pt = pt.iloc[0:24]\n",
    "\n",
    "print(\"Most popular hours to tweet:\")\n",
    "plt.plot(pt[\"hours\"], pt[\"values\"])\n",
    "plt.show()"
   ]
  },
  {
   "cell_type": "code",
   "execution_count": null,
   "metadata": {},
   "outputs": [],
   "source": []
  }
 ],
 "metadata": {
  "kernelspec": {
   "display_name": "Python 3",
   "language": "python",
   "name": "python3"
  },
  "language_info": {
   "codemirror_mode": {
    "name": "ipython",
    "version": 3
   },
   "file_extension": ".py",
   "mimetype": "text/x-python",
   "name": "python",
   "nbconvert_exporter": "python",
   "pygments_lexer": "ipython3",
   "version": "3.6.3"
  }
 },
 "nbformat": 4,
 "nbformat_minor": 1
}
